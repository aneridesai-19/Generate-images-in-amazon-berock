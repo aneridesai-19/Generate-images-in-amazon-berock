{
 "cells": [
  {
   "cell_type": "code",
   "execution_count": 3,
   "metadata": {},
   "outputs": [
    {
     "name": "stdout",
     "output_type": "stream",
     "text": [
      "The Generated image is available at: https://generated-images-blog2-bucket.s3.amazonaws.com/generated-images/8dbffd18-f477-4ec8-9c9c-c0708a0dd5cc.png\n"
     ]
    }
   ],
   "source": [
    "import boto3\n",
    "import json\n",
    "import base64\n",
    "import io\n",
    "import uuid\n",
    "from PIL import Image\n",
    "\n",
    "# Set up the Amazon Bedrock client\n",
    "bedrock_client = boto3.client(\n",
    "    service_name=\"bedrock-runtime\",\n",
    "    region_name=\"us-east-1\"\n",
    ")\n",
    "\n",
    "# Define the model ID\n",
    "model_id = \"amazon.nova-canvas-v1:0\"\n",
    "\n",
    "# Prepare the input prompt\n",
    "prompt = \"create me an image of a group of 6 girls sitting together in a garden and enjoying picnic\"\n",
    "\n",
    "# Create the request payload\n",
    "body = json.dumps({\n",
    "        \"taskType\": \"TEXT_IMAGE\",\n",
    "        \"textToImageParams\": {\n",
    "            \"text\": prompt\n",
    "        },\n",
    "        \"imageGenerationConfig\": {\n",
    "            \"numberOfImages\": 1,\n",
    "            \"height\": 1024,\n",
    "            \"width\": 1024,\n",
    "            \"cfgScale\": 8.0,\n",
    "            \"seed\": 0\n",
    "        }\n",
    "    })\n",
    "\n",
    "accept = \"application/json\"\n",
    "content_type = \"application/json\"\n",
    "\n",
    "# Invoke the Amazon Bedrock model\n",
    "response = bedrock_client.invoke_model(\n",
    "    modelId=model_id,\n",
    "    body=body,\n",
    "    accept=accept, \n",
    "    contentType=content_type\n",
    ")\n",
    "\n",
    "# Process the response\n",
    "result = json.loads(response[\"body\"].read())\n",
    "\n",
    "base64_image = result.get(\"images\")[0]\n",
    "base64_bytes = base64_image.encode('ascii')\n",
    "image_bytes = base64.b64decode(base64_bytes)\n",
    "\n",
    "image = Image.open(io.BytesIO(image_bytes))\n",
    "image.show()\n",
    "\n",
    "s3 = boto3.client(\"s3\")\n",
    "id = uuid.uuid4()\n",
    "\n",
    "bucket_name = \"generated-images-blog2-bucket\"\n",
    "image_filename = f\"generated-images/{id}.png\"\n",
    "\n",
    "response = s3.put_object(\n",
    "            Bucket=bucket_name,\n",
    "            Key=image_filename,\n",
    "            Body=image_bytes,\n",
    "            ContentType='image/jpeg'\n",
    "        )\n",
    "\n",
    "s3_url = f\"https://{bucket_name}.s3.amazonaws.com/{image_filename}\"\n",
    "\n",
    "print(f\"The Generated image is available at: {s3_url}\")"
   ]
  }
 ],
 "metadata": {
  "kernelspec": {
   "display_name": "venv",
   "language": "python",
   "name": "python3"
  },
  "language_info": {
   "codemirror_mode": {
    "name": "ipython",
    "version": 3
   },
   "file_extension": ".py",
   "mimetype": "text/x-python",
   "name": "python",
   "nbconvert_exporter": "python",
   "pygments_lexer": "ipython3",
   "version": "3.12.7"
  }
 },
 "nbformat": 4,
 "nbformat_minor": 2
}
